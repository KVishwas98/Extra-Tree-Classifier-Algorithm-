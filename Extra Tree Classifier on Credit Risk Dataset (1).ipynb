{
 "cells": [
  {
   "cell_type": "markdown",
   "id": "3b86bff8",
   "metadata": {},
   "source": [
    "# Extra Tree Classifier "
   ]
  },
  {
   "cell_type": "markdown",
   "id": "5d711e12",
   "metadata": {},
   "source": [
    "* Extra Tree Classifier is an emsemble algorithm, which uses number of decision trees at the back end and each decision tree is uncorrelated to each other.\n",
    "* Extra Tree Classifier is also a bootstraping and bagging algorithm.\n",
    "* Random Forest is a greedy algorithm, uses the best available parameter at each node for the split based on the 'gini' or ' entropy'.\n",
    "* But in Extra Tree Classifier process of taking parameter is purely random.\n",
    "* Extra Tree Classifier uses all the records of the sample."
   ]
  },
  {
   "cell_type": "markdown",
   "id": "cd77f3da",
   "metadata": {},
   "source": [
    "## Credit Risk Dataset"
   ]
  },
  {
   "cell_type": "code",
   "execution_count": 1,
   "id": "be395036",
   "metadata": {},
   "outputs": [],
   "source": [
    "# importing all the required libraries\n",
    "\n",
    "import pandas as pd\n",
    "import numpy as np\n",
    "import seaborn as sns\n",
    "import matplotlib.pyplot as plt\n",
    "import os"
   ]
  },
  {
   "cell_type": "code",
   "execution_count": 2,
   "id": "a48c0b2a",
   "metadata": {},
   "outputs": [],
   "source": [
    "os.chdir(\"C:/Users/vishw/OneDrive/Documents/Imarticus/Python/Machine Learning\")"
   ]
  },
  {
   "cell_type": "code",
   "execution_count": 3,
   "id": "285f73e8",
   "metadata": {},
   "outputs": [],
   "source": [
    "cr = pd.read_csv(\"CreditRisk.csv\")"
   ]
  },
  {
   "cell_type": "code",
   "execution_count": 5,
   "id": "0e275094",
   "metadata": {},
   "outputs": [
    {
     "data": {
      "text/html": [
       "<div>\n",
       "<style scoped>\n",
       "    .dataframe tbody tr th:only-of-type {\n",
       "        vertical-align: middle;\n",
       "    }\n",
       "\n",
       "    .dataframe tbody tr th {\n",
       "        vertical-align: top;\n",
       "    }\n",
       "\n",
       "    .dataframe thead th {\n",
       "        text-align: right;\n",
       "    }\n",
       "</style>\n",
       "<table border=\"1\" class=\"dataframe\">\n",
       "  <thead>\n",
       "    <tr style=\"text-align: right;\">\n",
       "      <th></th>\n",
       "      <th>Loan_ID</th>\n",
       "      <th>Gender</th>\n",
       "      <th>Married</th>\n",
       "      <th>Dependents</th>\n",
       "      <th>Education</th>\n",
       "      <th>Self_Employed</th>\n",
       "      <th>ApplicantIncome</th>\n",
       "      <th>CoapplicantIncome</th>\n",
       "      <th>LoanAmount</th>\n",
       "      <th>Loan_Amount_Term</th>\n",
       "      <th>Credit_History</th>\n",
       "      <th>Property_Area</th>\n",
       "      <th>Loan_Status</th>\n",
       "    </tr>\n",
       "  </thead>\n",
       "  <tbody>\n",
       "    <tr>\n",
       "      <th>0</th>\n",
       "      <td>LP001002</td>\n",
       "      <td>Male</td>\n",
       "      <td>No</td>\n",
       "      <td>0.0</td>\n",
       "      <td>Graduate</td>\n",
       "      <td>No</td>\n",
       "      <td>5849</td>\n",
       "      <td>0.0</td>\n",
       "      <td>NaN</td>\n",
       "      <td>360.0</td>\n",
       "      <td>1.0</td>\n",
       "      <td>Urban</td>\n",
       "      <td>Y</td>\n",
       "    </tr>\n",
       "    <tr>\n",
       "      <th>1</th>\n",
       "      <td>LP001003</td>\n",
       "      <td>Male</td>\n",
       "      <td>Yes</td>\n",
       "      <td>1.0</td>\n",
       "      <td>Graduate</td>\n",
       "      <td>No</td>\n",
       "      <td>4583</td>\n",
       "      <td>1508.0</td>\n",
       "      <td>128.0</td>\n",
       "      <td>360.0</td>\n",
       "      <td>1.0</td>\n",
       "      <td>Rural</td>\n",
       "      <td>N</td>\n",
       "    </tr>\n",
       "    <tr>\n",
       "      <th>2</th>\n",
       "      <td>LP001005</td>\n",
       "      <td>Male</td>\n",
       "      <td>Yes</td>\n",
       "      <td>0.0</td>\n",
       "      <td>Graduate</td>\n",
       "      <td>Yes</td>\n",
       "      <td>3000</td>\n",
       "      <td>0.0</td>\n",
       "      <td>66.0</td>\n",
       "      <td>360.0</td>\n",
       "      <td>1.0</td>\n",
       "      <td>Urban</td>\n",
       "      <td>Y</td>\n",
       "    </tr>\n",
       "    <tr>\n",
       "      <th>3</th>\n",
       "      <td>LP001006</td>\n",
       "      <td>Male</td>\n",
       "      <td>Yes</td>\n",
       "      <td>0.0</td>\n",
       "      <td>Not Graduate</td>\n",
       "      <td>No</td>\n",
       "      <td>2583</td>\n",
       "      <td>2358.0</td>\n",
       "      <td>120.0</td>\n",
       "      <td>360.0</td>\n",
       "      <td>1.0</td>\n",
       "      <td>Urban</td>\n",
       "      <td>Y</td>\n",
       "    </tr>\n",
       "    <tr>\n",
       "      <th>4</th>\n",
       "      <td>LP001008</td>\n",
       "      <td>Male</td>\n",
       "      <td>No</td>\n",
       "      <td>0.0</td>\n",
       "      <td>Graduate</td>\n",
       "      <td>No</td>\n",
       "      <td>6000</td>\n",
       "      <td>0.0</td>\n",
       "      <td>141.0</td>\n",
       "      <td>360.0</td>\n",
       "      <td>1.0</td>\n",
       "      <td>Urban</td>\n",
       "      <td>Y</td>\n",
       "    </tr>\n",
       "  </tbody>\n",
       "</table>\n",
       "</div>"
      ],
      "text/plain": [
       "    Loan_ID Gender Married  Dependents     Education Self_Employed  \\\n",
       "0  LP001002   Male      No         0.0      Graduate            No   \n",
       "1  LP001003   Male     Yes         1.0      Graduate            No   \n",
       "2  LP001005   Male     Yes         0.0      Graduate           Yes   \n",
       "3  LP001006   Male     Yes         0.0  Not Graduate            No   \n",
       "4  LP001008   Male      No         0.0      Graduate            No   \n",
       "\n",
       "   ApplicantIncome  CoapplicantIncome  LoanAmount  Loan_Amount_Term  \\\n",
       "0             5849                0.0         NaN             360.0   \n",
       "1             4583             1508.0       128.0             360.0   \n",
       "2             3000                0.0        66.0             360.0   \n",
       "3             2583             2358.0       120.0             360.0   \n",
       "4             6000                0.0       141.0             360.0   \n",
       "\n",
       "   Credit_History Property_Area Loan_Status  \n",
       "0             1.0         Urban           Y  \n",
       "1             1.0         Rural           N  \n",
       "2             1.0         Urban           Y  \n",
       "3             1.0         Urban           Y  \n",
       "4             1.0         Urban           Y  "
      ]
     },
     "execution_count": 5,
     "metadata": {},
     "output_type": "execute_result"
    }
   ],
   "source": [
    "# printing first 5 records\n",
    "cr.head()"
   ]
  },
  {
   "cell_type": "code",
   "execution_count": 6,
   "id": "4e617b59",
   "metadata": {},
   "outputs": [
    {
     "data": {
      "text/plain": [
       "(981, 13)"
      ]
     },
     "execution_count": 6,
     "metadata": {},
     "output_type": "execute_result"
    }
   ],
   "source": [
    "# printing shape of the dataset\n",
    "cr.shape   # data has 981 rows and 13 columns"
   ]
  },
  {
   "cell_type": "code",
   "execution_count": 7,
   "id": "bec43471",
   "metadata": {},
   "outputs": [
    {
     "data": {
      "text/plain": [
       "Loan_ID               0\n",
       "Gender               24\n",
       "Married               3\n",
       "Dependents           25\n",
       "Education             0\n",
       "Self_Employed        55\n",
       "ApplicantIncome       0\n",
       "CoapplicantIncome     0\n",
       "LoanAmount           27\n",
       "Loan_Amount_Term     20\n",
       "Credit_History       79\n",
       "Property_Area         0\n",
       "Loan_Status           0\n",
       "dtype: int64"
      ]
     },
     "execution_count": 7,
     "metadata": {},
     "output_type": "execute_result"
    }
   ],
   "source": [
    "# checking for null if there are any\n",
    "\n",
    "cr.isnull().sum()"
   ]
  },
  {
   "cell_type": "code",
   "execution_count": 177,
   "id": "39bdad08",
   "metadata": {},
   "outputs": [],
   "source": [
    "# taking care of NULL's\n",
    "cr.Gender = cr.Gender.fillna(\"Male\")\n",
    "cr.Married = cr.Married.fillna(\"Yes\")\n",
    "cr.Self_Employed = cr.Self_Employed.fillna(\"Yes\")\n",
    "cr.Credit_History = cr.Credit_History.fillna(1)\n",
    "cr.Dependents = cr.Dependents.fillna(0)\n",
    "cr.LoanAmount = cr.LoanAmount.fillna(cr.LoanAmount.mean())\n",
    "cr.Loan_amount_Term = cr.Loan_Amount_Term.fillna(cr.Loan_Amount_Term.mean(), inplace = True)"
   ]
  },
  {
   "cell_type": "code",
   "execution_count": 178,
   "id": "946c1748",
   "metadata": {},
   "outputs": [
    {
     "data": {
      "text/plain": [
       "Loan_ID              0\n",
       "Gender               0\n",
       "Married              0\n",
       "Dependents           0\n",
       "Education            0\n",
       "Self_Employed        0\n",
       "ApplicantIncome      0\n",
       "CoapplicantIncome    0\n",
       "LoanAmount           0\n",
       "Loan_Amount_Term     0\n",
       "Credit_History       0\n",
       "Property_Area        0\n",
       "Loan_Status          0\n",
       "dtype: int64"
      ]
     },
     "execution_count": 178,
     "metadata": {},
     "output_type": "execute_result"
    }
   ],
   "source": [
    "# checking the NULL's\n",
    "cr.isnull().sum()"
   ]
  },
  {
   "cell_type": "code",
   "execution_count": 179,
   "id": "6eff8fc7",
   "metadata": {},
   "outputs": [],
   "source": [
    "# To perform Extra Tree Classifier we have to convert categorical in numbers\n",
    "\n",
    "cr.Gender.replace({\"Male\" : 1, \"Female\": 0}, inplace = True)\n",
    "cr.Married.replace({\"No\": 0, \"Yes\": 1}, inplace = True)\n",
    "cr.Education.replace({\"Graduate\": 1, \"Not Graduate\": 0}, inplace = True)\n",
    "cr.Self_Employed.replace({\"No\": 0, \"Yes\": 1}, inplace = True)\n",
    "cr.Property_Area.replace({\"Semiurban\":1, \"Urban\": 2, \"Rural\":3}, inplace = True)\n",
    "cr.Loan_Status.replace({\"Y\": 1, \"N\": 0}, inplace = True)"
   ]
  },
  {
   "cell_type": "code",
   "execution_count": 180,
   "id": "58443661",
   "metadata": {},
   "outputs": [],
   "source": [
    "# let's separate the data with sampling with x and y\n",
    "\n",
    "cr_x = cr.iloc[: , 1:12]  # taking all the rows and column except loan id and target variable \n",
    "cr_y = cr.iloc[: , -1] # storing only y variable"
   ]
  },
  {
   "cell_type": "code",
   "execution_count": 181,
   "id": "eb8527fc",
   "metadata": {},
   "outputs": [],
   "source": [
    "# here splitting the database in train x and y and test x and y\n",
    "from sklearn.model_selection import train_test_split\n",
    "\n",
    "cr_x_train, cr_x_test, cr_y_train, cr_y_test = train_test_split(cr_x, cr_y, test_size = .2)"
   ]
  },
  {
   "cell_type": "code",
   "execution_count": 182,
   "id": "c32ced87",
   "metadata": {},
   "outputs": [],
   "source": [
    "# importing Extra Tree Classifier from Sklearn.ensemble\n",
    "\n",
    "from sklearn.ensemble import ExtraTreesClassifier"
   ]
  },
  {
   "cell_type": "code",
   "execution_count": 183,
   "id": "c52df8fa",
   "metadata": {},
   "outputs": [],
   "source": [
    "# storing extra tree classifier in 'etc'\n",
    "\n",
    "etc = ExtraTreesClassifier(criterion = \"entropy\", max_depth = 2)"
   ]
  },
  {
   "cell_type": "code",
   "execution_count": 184,
   "id": "357b40e9",
   "metadata": {},
   "outputs": [
    {
     "data": {
      "text/plain": [
       "ExtraTreesClassifier(criterion='entropy', max_depth=2)"
      ]
     },
     "execution_count": 184,
     "metadata": {},
     "output_type": "execute_result"
    }
   ],
   "source": [
    "# fiting the train data in 'etc.fit'\n",
    "\n",
    "etc.fit(cr_x_train, cr_y_train)"
   ]
  },
  {
   "cell_type": "code",
   "execution_count": 196,
   "id": "a52b623d",
   "metadata": {},
   "outputs": [],
   "source": [
    "# fitting cr_x_test in the etc.predict\n",
    "\n",
    "pred_etc = etc.predict(cr_x_test)"
   ]
  },
  {
   "cell_type": "code",
   "execution_count": 197,
   "id": "79c048bf",
   "metadata": {},
   "outputs": [
    {
     "data": {
      "text/plain": [
       "array([[ 29,  25],\n",
       "       [  1, 142]], dtype=int64)"
      ]
     },
     "execution_count": 197,
     "metadata": {},
     "output_type": "execute_result"
    }
   ],
   "source": [
    "# building confusin matrix and printing the results\n",
    "\n",
    "from sklearn.metrics import confusion_matrix\n",
    "confusion_matrix(cr_y_test, pred_etc)"
   ]
  },
  {
   "cell_type": "code",
   "execution_count": 202,
   "id": "545613fc",
   "metadata": {},
   "outputs": [
    {
     "data": {
      "text/plain": [
       "0.868020304568528"
      ]
     },
     "execution_count": 202,
     "metadata": {},
     "output_type": "execute_result"
    }
   ],
   "source": [
    "# printing the accuracy\n",
    "\n",
    "from sklearn.metrics import accuracy_score\n",
    "accuracy_score(cr_y_test, pred_etc)"
   ]
  },
  {
   "cell_type": "code",
   "execution_count": 203,
   "id": "e9d3bf25",
   "metadata": {},
   "outputs": [
    {
     "data": {
      "text/plain": [
       "0.993006993006993"
      ]
     },
     "execution_count": 203,
     "metadata": {},
     "output_type": "execute_result"
    }
   ],
   "source": [
    "from sklearn.metrics import recall_score\n",
    "recall_score(cr_y_test, pred_etc)"
   ]
  },
  {
   "cell_type": "code",
   "execution_count": null,
   "id": "be5f33ef",
   "metadata": {},
   "outputs": [],
   "source": [
    "from sklearn.metrics import recall_score\n",
    "recall_score(cr_y_test, pred_etc)"
   ]
  },
  {
   "cell_type": "code",
   "execution_count": 158,
   "id": "b2b84adc",
   "metadata": {},
   "outputs": [
    {
     "data": {
      "text/plain": [
       "array([0.01324634, 0.09397285, 0.01455625, 0.05720639, 0.00578991,\n",
       "       0.00882992, 0.04951586, 0.01851055, 0.03906938, 0.5359914 ,\n",
       "       0.16331115])"
      ]
     },
     "execution_count": 158,
     "metadata": {},
     "output_type": "execute_result"
    }
   ],
   "source": [
    "# to find which feature is important we are using featur_importances here\n",
    "\n",
    "etc.feature_importances_"
   ]
  },
  {
   "cell_type": "code",
   "execution_count": 159,
   "id": "df83693e",
   "metadata": {},
   "outputs": [
    {
     "data": {
      "text/html": [
       "<div>\n",
       "<style scoped>\n",
       "    .dataframe tbody tr th:only-of-type {\n",
       "        vertical-align: middle;\n",
       "    }\n",
       "\n",
       "    .dataframe tbody tr th {\n",
       "        vertical-align: top;\n",
       "    }\n",
       "\n",
       "    .dataframe thead th {\n",
       "        text-align: right;\n",
       "    }\n",
       "</style>\n",
       "<table border=\"1\" class=\"dataframe\">\n",
       "  <thead>\n",
       "    <tr style=\"text-align: right;\">\n",
       "      <th></th>\n",
       "      <th>Features</th>\n",
       "      <th>Score</th>\n",
       "    </tr>\n",
       "  </thead>\n",
       "  <tbody>\n",
       "    <tr>\n",
       "      <th>0</th>\n",
       "      <td>Gender</td>\n",
       "      <td>0.013246</td>\n",
       "    </tr>\n",
       "    <tr>\n",
       "      <th>1</th>\n",
       "      <td>Married</td>\n",
       "      <td>0.093973</td>\n",
       "    </tr>\n",
       "    <tr>\n",
       "      <th>2</th>\n",
       "      <td>Dependents</td>\n",
       "      <td>0.014556</td>\n",
       "    </tr>\n",
       "    <tr>\n",
       "      <th>3</th>\n",
       "      <td>Education</td>\n",
       "      <td>0.057206</td>\n",
       "    </tr>\n",
       "    <tr>\n",
       "      <th>4</th>\n",
       "      <td>Self_Employed</td>\n",
       "      <td>0.005790</td>\n",
       "    </tr>\n",
       "    <tr>\n",
       "      <th>5</th>\n",
       "      <td>ApplicantIncome</td>\n",
       "      <td>0.008830</td>\n",
       "    </tr>\n",
       "    <tr>\n",
       "      <th>6</th>\n",
       "      <td>CoapplicantIncome</td>\n",
       "      <td>0.049516</td>\n",
       "    </tr>\n",
       "    <tr>\n",
       "      <th>7</th>\n",
       "      <td>LoanAmount</td>\n",
       "      <td>0.018511</td>\n",
       "    </tr>\n",
       "    <tr>\n",
       "      <th>8</th>\n",
       "      <td>Loan_Amount_Term</td>\n",
       "      <td>0.039069</td>\n",
       "    </tr>\n",
       "    <tr>\n",
       "      <th>9</th>\n",
       "      <td>Credit_History</td>\n",
       "      <td>0.535991</td>\n",
       "    </tr>\n",
       "    <tr>\n",
       "      <th>10</th>\n",
       "      <td>Property_Area</td>\n",
       "      <td>0.163311</td>\n",
       "    </tr>\n",
       "  </tbody>\n",
       "</table>\n",
       "</div>"
      ],
      "text/plain": [
       "             Features     Score\n",
       "0              Gender  0.013246\n",
       "1             Married  0.093973\n",
       "2          Dependents  0.014556\n",
       "3           Education  0.057206\n",
       "4       Self_Employed  0.005790\n",
       "5     ApplicantIncome  0.008830\n",
       "6   CoapplicantIncome  0.049516\n",
       "7          LoanAmount  0.018511\n",
       "8    Loan_Amount_Term  0.039069\n",
       "9      Credit_History  0.535991\n",
       "10      Property_Area  0.163311"
      ]
     },
     "execution_count": 159,
     "metadata": {},
     "output_type": "execute_result"
    }
   ],
   "source": [
    "# identifying which feature importances score belongs to which columns\n",
    "feature_importance = pd.DataFrame({\"Features\": cr_x_train.columns, \"Score\": etc.feature_importances_})\n",
    "feature_importance"
   ]
  },
  {
   "cell_type": "code",
   "execution_count": 160,
   "id": "cf6d9029",
   "metadata": {},
   "outputs": [
    {
     "data": {
      "text/html": [
       "<div>\n",
       "<style scoped>\n",
       "    .dataframe tbody tr th:only-of-type {\n",
       "        vertical-align: middle;\n",
       "    }\n",
       "\n",
       "    .dataframe tbody tr th {\n",
       "        vertical-align: top;\n",
       "    }\n",
       "\n",
       "    .dataframe thead th {\n",
       "        text-align: right;\n",
       "    }\n",
       "</style>\n",
       "<table border=\"1\" class=\"dataframe\">\n",
       "  <thead>\n",
       "    <tr style=\"text-align: right;\">\n",
       "      <th></th>\n",
       "      <th>Features</th>\n",
       "      <th>Score</th>\n",
       "    </tr>\n",
       "  </thead>\n",
       "  <tbody>\n",
       "    <tr>\n",
       "      <th>9</th>\n",
       "      <td>Credit_History</td>\n",
       "      <td>0.535991</td>\n",
       "    </tr>\n",
       "    <tr>\n",
       "      <th>10</th>\n",
       "      <td>Property_Area</td>\n",
       "      <td>0.163311</td>\n",
       "    </tr>\n",
       "    <tr>\n",
       "      <th>1</th>\n",
       "      <td>Married</td>\n",
       "      <td>0.093973</td>\n",
       "    </tr>\n",
       "    <tr>\n",
       "      <th>3</th>\n",
       "      <td>Education</td>\n",
       "      <td>0.057206</td>\n",
       "    </tr>\n",
       "    <tr>\n",
       "      <th>6</th>\n",
       "      <td>CoapplicantIncome</td>\n",
       "      <td>0.049516</td>\n",
       "    </tr>\n",
       "    <tr>\n",
       "      <th>8</th>\n",
       "      <td>Loan_Amount_Term</td>\n",
       "      <td>0.039069</td>\n",
       "    </tr>\n",
       "    <tr>\n",
       "      <th>7</th>\n",
       "      <td>LoanAmount</td>\n",
       "      <td>0.018511</td>\n",
       "    </tr>\n",
       "    <tr>\n",
       "      <th>2</th>\n",
       "      <td>Dependents</td>\n",
       "      <td>0.014556</td>\n",
       "    </tr>\n",
       "    <tr>\n",
       "      <th>0</th>\n",
       "      <td>Gender</td>\n",
       "      <td>0.013246</td>\n",
       "    </tr>\n",
       "    <tr>\n",
       "      <th>5</th>\n",
       "      <td>ApplicantIncome</td>\n",
       "      <td>0.008830</td>\n",
       "    </tr>\n",
       "    <tr>\n",
       "      <th>4</th>\n",
       "      <td>Self_Employed</td>\n",
       "      <td>0.005790</td>\n",
       "    </tr>\n",
       "  </tbody>\n",
       "</table>\n",
       "</div>"
      ],
      "text/plain": [
       "             Features     Score\n",
       "9      Credit_History  0.535991\n",
       "10      Property_Area  0.163311\n",
       "1             Married  0.093973\n",
       "3           Education  0.057206\n",
       "6   CoapplicantIncome  0.049516\n",
       "8    Loan_Amount_Term  0.039069\n",
       "7          LoanAmount  0.018511\n",
       "2          Dependents  0.014556\n",
       "0              Gender  0.013246\n",
       "5     ApplicantIncome  0.008830\n",
       "4       Self_Employed  0.005790"
      ]
     },
     "execution_count": 160,
     "metadata": {},
     "output_type": "execute_result"
    }
   ],
   "source": [
    "# printing the highest feature importance at the first followed by 2nd most and 3rd\n",
    "feature_importance = feature_importance.sort_values(\"Score\", ascending = False)\n",
    "feature_importance"
   ]
  },
  {
   "cell_type": "code",
   "execution_count": 161,
   "id": "5d2a88af",
   "metadata": {},
   "outputs": [
    {
     "data": {
      "text/plain": [
       "Text(0.5, 1.0, 'Feature Importance on Credit Risk Data')"
      ]
     },
     "execution_count": 161,
     "metadata": {},
     "output_type": "execute_result"
    },
    {
     "data": {
      "image/png": "[encoded data removed]",
      "text/plain": [
       "<Figure size 720x720 with 1 Axes>"
      ]
     },
     "metadata": {
      "needs_background": "light"
     },
     "output_type": "display_data"
    }
   ],
   "source": [
    "# to make it understandable here plotting the graph\n",
    "\n",
    "plt.figure(figsize = (10,10))\n",
    "plt.bar(feature_importance.Features, feature_importance.Score, color = [\"g\", \"g\", \"g\", \"g\", \"g\", \"g\", \"r\", \"r\", \"r\", \"r\", \"r\"])\n",
    "plt.axhline(y = .048, color = \"black\")\n",
    "y_pos = range(len(feature_importance.Features))\n",
    "plt.ylabel(\"Probability_Score\", size = 15)\n",
    "plt.xticks(y_pos, feature_importance.Features, rotation = 55);\n",
    "plt.title(\"Feature Importance on Credit Risk Data\", size = 15, color = \"r\")"
   ]
  },
  {
   "cell_type": "code",
   "execution_count": 162,
   "id": "e2c7bf32",
   "metadata": {},
   "outputs": [],
   "source": [
    "# here plotting the tree with necessary libraries import\n",
    "\n",
    "from IPython.display import Image\n",
    "from six import StringIO\n",
    "from sklearn.tree import export_graphviz\n",
    "import pydotplus\n",
    "import pydot"
   ]
  },
  {
   "cell_type": "code",
   "execution_count": 163,
   "id": "b14fb95d",
   "metadata": {},
   "outputs": [],
   "source": [
    "cr_x_train_names = cr_x_train.columns"
   ]
  },
  {
   "cell_type": "code",
   "execution_count": 164,
   "id": "1d5b3424",
   "metadata": {},
   "outputs": [
    {
     "data": {
      "text/plain": [
       "(784, 11)"
      ]
     },
     "execution_count": 164,
     "metadata": {},
     "output_type": "execute_result"
    }
   ],
   "source": [
    "# verifying the data in the x_train\n",
    "\n",
    "cr_x_train.shape"
   ]
  },
  {
   "cell_type": "code",
   "execution_count": 165,
   "id": "09a39926",
   "metadata": {},
   "outputs": [],
   "source": [
    "dot_data = StringIO()"
   ]
  },
  {
   "cell_type": "code",
   "execution_count": 166,
   "id": "370a485a",
   "metadata": {},
   "outputs": [
    {
     "data": {
      "image/png": "[encoded data removed]",
      "text/plain": [
       "<IPython.core.display.Image object>"
      ]
     },
     "execution_count": 166,
     "metadata": {},
     "output_type": "execute_result"
    },
    {
     "data": {
      "text/plain": [
       "<Figure size 864x864 with 0 Axes>"
      ]
     },
     "metadata": {},
     "output_type": "display_data"
    }
   ],
   "source": [
    "# plotting the tree\n",
    "\n",
    "fig = plt.figure(figsize= (12,12))\n",
    "\n",
    "export_graphviz(etc[1], out_file= dot_data,\n",
    "               filled=True, rounded= True,\n",
    "               special_characters= True, feature_names = cr_x_train_names)\n",
    "graph = pydotplus.graph_from_dot_data(dot_data.getvalue())\n",
    "\n",
    "(graph,) = pydot.graph_from_dot_data(dot_data.getvalue())\n",
    "Image(graph.create_png())"
   ]
  },
  {
   "cell_type": "markdown",
   "id": "00a77203",
   "metadata": {},
   "source": [
    "  "
   ]
  },
  {
   "cell_type": "markdown",
   "id": "dc3c7532",
   "metadata": {},
   "source": [
    "# Comparing Extra Tree Classifier with Random Forest"
   ]
  },
  {
   "cell_type": "code",
   "execution_count": 39,
   "id": "1cfe6f5d",
   "metadata": {},
   "outputs": [],
   "source": [
    "# to compare 'Extra Tree Classifier' with 'Random Forest'\n",
    "\n",
    "from sklearn.ensemble import RandomForestClassifier"
   ]
  },
  {
   "cell_type": "code",
   "execution_count": 46,
   "id": "e90f0e35",
   "metadata": {},
   "outputs": [],
   "source": [
    "rnf = RandomForestClassifier(criterion = \"entropy\")"
   ]
  },
  {
   "cell_type": "code",
   "execution_count": 47,
   "id": "0abfb898",
   "metadata": {},
   "outputs": [
    {
     "data": {
      "text/plain": [
       "RandomForestClassifier(criterion='entropy')"
      ]
     },
     "execution_count": 47,
     "metadata": {},
     "output_type": "execute_result"
    }
   ],
   "source": [
    "rnf.fit(cr_x_train, cr_y_train) "
   ]
  },
  {
   "cell_type": "code",
   "execution_count": 48,
   "id": "3fb4fdf4",
   "metadata": {},
   "outputs": [],
   "source": [
    "pred_rnf = rnf.predict(cr_x_test)"
   ]
  },
  {
   "cell_type": "code",
   "execution_count": 49,
   "id": "f53aaf8c",
   "metadata": {},
   "outputs": [
    {
     "data": {
      "text/plain": [
       "array([[ 27,  28],\n",
       "       [  4, 138]], dtype=int64)"
      ]
     },
     "execution_count": 49,
     "metadata": {},
     "output_type": "execute_result"
    }
   ],
   "source": [
    "confusion_matrix(cr_y_test, pred_rnf)"
   ]
  },
  {
   "cell_type": "code",
   "execution_count": 50,
   "id": "22051ac1",
   "metadata": {},
   "outputs": [
    {
     "data": {
      "text/plain": [
       "0.8375634517766497"
      ]
     },
     "execution_count": 50,
     "metadata": {},
     "output_type": "execute_result"
    }
   ],
   "source": [
    "accuracy_score(cr_y_test, pred_rnf)"
   ]
  },
  {
   "cell_type": "code",
   "execution_count": 168,
   "id": "3855af50",
   "metadata": {},
   "outputs": [
    {
     "data": {
      "text/plain": [
       "0.8620689655172413"
      ]
     },
     "execution_count": 168,
     "metadata": {},
     "output_type": "execute_result"
    }
   ],
   "source": [
    "from sklearn.metrics import recall_score\n",
    "recall_score(cr_y_test, pred_rnf)"
   ]
  },
  {
   "cell_type": "markdown",
   "id": "82fa2ba5",
   "metadata": {},
   "source": [
    "# Intepretation :"
   ]
  },
  {
   "cell_type": "markdown",
   "id": "b627c8bd",
   "metadata": {},
   "source": [
    "### Given the accuracy and confusion matrix of the both algorithm we can conclude that the Extra Tree Classifier is giving better results."
   ]
  }
 ],
 "metadata": {
  "kernelspec": {
   "display_name": "Python 3",
   "language": "python",
   "name": "python3"
  },
  "language_info": {
   "codemirror_mode": {
    "name": "ipython",
    "version": 3
   },
   "file_extension": ".py",
   "mimetype": "text/x-python",
   "name": "python",
   "nbconvert_exporter": "python",
   "pygments_lexer": "ipython3",
   "version": "3.8.8"
  }
 },
 "nbformat": 4,
 "nbformat_minor": 5
}
